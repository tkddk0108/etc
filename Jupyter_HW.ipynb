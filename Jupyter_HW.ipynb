{
 "cells": [
  {
   "cell_type": "code",
   "execution_count": 1,
   "id": "eb89d0bd-45ee-4697-9dbe-a0f9caa6d1d8",
   "metadata": {},
   "outputs": [
    {
     "name": "stdin",
     "output_type": "stream",
     "text": [
      " hello\n"
     ]
    },
    {
     "name": "stdout",
     "output_type": "stream",
     "text": [
      "HELLO,HELLO,HELLO,HELLO,HELLO\n"
     ]
    }
   ],
   "source": [
    "#문제 1\n",
    "n = input()\n",
    "answer = ''\n",
    "i = 0\n",
    "while len(n) > i: \n",
    "    answer += n.upper() + \",\"\n",
    "    i += 1\n",
    "print(answer[:-1])"
   ]
  },
  {
   "cell_type": "code",
   "execution_count": 59,
   "id": "26dbb1fb-7cc6-46d7-a01c-9400ccb5e3c7",
   "metadata": {},
   "outputs": [
    {
     "name": "stdin",
     "output_type": "stream",
     "text": [
      " 4\n"
     ]
    },
    {
     "name": "stdout",
     "output_type": "stream",
     "text": [
      "1 1\n",
      "2 8\n",
      "3 27\n",
      "4 64\n"
     ]
    }
   ],
   "source": [
    "#문제 2\n",
    "n = int(input())\n",
    "for i in range(1, n+1):\n",
    "    print(i, i*i*i)"
   ]
  },
  {
   "cell_type": "code",
   "execution_count": 65,
   "id": "138c940f-7e6f-44d6-a094-c9544be6166f",
   "metadata": {},
   "outputs": [
    {
     "name": "stdin",
     "output_type": "stream",
     "text": [
      " hello\n",
      " hello\n",
      " \n"
     ]
    },
    {
     "name": "stdout",
     "output_type": "stream",
     "text": [
      "hellohello\n"
     ]
    }
   ],
   "source": [
    "#문제 3\n",
    "answer = ''\n",
    "while(1):\n",
    "    n = input()\n",
    "    if n == '':\n",
    "        break\n",
    "    answer += n\n",
    "print(answer)"
   ]
  },
  {
   "cell_type": "code",
   "execution_count": 89,
   "id": "1d1e583e-fcb9-4f5b-bffe-47acd7c4a367",
   "metadata": {},
   "outputs": [
    {
     "name": "stdin",
     "output_type": "stream",
     "text": [
      " 20 80\n",
      " 40 55 65 -999\n"
     ]
    },
    {
     "name": "stdout",
     "output_type": "stream",
     "text": [
      "Humidity OK\n",
      "Humidity OK\n",
      "Humidity OK\n"
     ]
    }
   ],
   "source": [
    "#문제 4\n",
    "LH, HH = input().split() #Highest_Humidity , Lowest_Humidity\n",
    "humidity = list(map(int, input().split()))\n",
    "for i in humidity:\n",
    "    if i <= int(HH) and i >= int(LH):\n",
    "        print(\"Humidity OK\")\n",
    "    elif i == -999:\n",
    "        break\n",
    "    else:\n",
    "        print(\"Warning\")\n",
    "        break"
   ]
  },
  {
   "cell_type": "code",
   "execution_count": 107,
   "id": "e530d0af-62d1-4e6d-880d-888c813c67c5",
   "metadata": {},
   "outputs": [
    {
     "name": "stdout",
     "output_type": "stream",
     "text": [
      "12\n"
     ]
    }
   ],
   "source": [
    "#문제 5\n",
    "def repeat_n_times(x, n):\n",
    "    x = str(x)\n",
    "    if x.isalpha():\n",
    "        print(x * n)\n",
    "    else:\n",
    "        print(int(x) * n)\n",
    "\n",
    "repeat_n_times(3,4)"
   ]
  },
  {
   "cell_type": "code",
   "execution_count": 115,
   "id": "71929260-23c7-445f-857c-ab2f6c164182",
   "metadata": {},
   "outputs": [
    {
     "name": "stdout",
     "output_type": "stream",
     "text": [
      "15\n"
     ]
    }
   ],
   "source": [
    "#문제 6\n",
    "multiply = lambda x,n: x*n\n",
    "result = multiply(3,5)\n",
    "print(result)"
   ]
  },
  {
   "cell_type": "code",
   "execution_count": 113,
   "id": "41805295-9d1f-462b-9fff-d8477cf4092b",
   "metadata": {},
   "outputs": [
    {
     "name": "stdout",
     "output_type": "stream",
     "text": [
      "['1', '2', '3', '4', '5']\n"
     ]
    }
   ],
   "source": [
    "#문제 7\n",
    "target = [1,2,3,4,5]\n",
    "target = list(map(lambda x: str(x), target))\n",
    "print(target)"
   ]
  },
  {
   "cell_type": "code",
   "execution_count": 149,
   "id": "43394aae-86bf-4bb7-abec-529551b96590",
   "metadata": {},
   "outputs": [
    {
     "name": "stdout",
     "output_type": "stream",
     "text": [
      "['1', '-2', '9', '-4', '25']\n"
     ]
    }
   ],
   "source": [
    "#문제 8\n",
    "target = [1,-2,3,-4,5]\n",
    "target = list(map(lambda x: str(x*x) if x > 0 else str(x), target))\n",
    "print(target)"
   ]
  },
  {
   "cell_type": "code",
   "execution_count": 153,
   "id": "ce85a936-5358-4c96-b3b4-0fceb19fec4d",
   "metadata": {},
   "outputs": [
    {
     "name": "stdout",
     "output_type": "stream",
     "text": [
      "과속입니다\n"
     ]
    }
   ],
   "source": [
    "#문제 9\n",
    "now = 120\n",
    "standard = 50\n",
    "if now > standard:\n",
    "    print(\"과속입니다\")\n",
    "else:\n",
    "    print(\"정상 속도입니다. 안전운행 하세요\")"
   ]
  },
  {
   "cell_type": "code",
   "execution_count": 157,
   "id": "d9515cc6-d29a-4cf4-aaf5-5f8da25d20d6",
   "metadata": {},
   "outputs": [
    {
     "name": "stdin",
     "output_type": "stream",
     "text": [
      " 4\n"
     ]
    },
    {
     "name": "stdout",
     "output_type": "stream",
     "text": [
      "버스타세요\n",
      "수고하셨습니다\n"
     ]
    }
   ],
   "source": [
    "#문제 10\n",
    "distance = int(input())\n",
    "if distance <= 3:\n",
    "    print(\"걸어가세요\")\n",
    "elif distance <= 10:\n",
    "    print(\"버스타세요\")\n",
    "else:\n",
    "    print(\"택시타세요\")\n",
    "\n",
    "print(\"수고하셨습니다\")"
   ]
  },
  {
   "cell_type": "code",
   "execution_count": 165,
   "id": "7e446356-0679-47d0-801e-afa05fc5b38c",
   "metadata": {},
   "outputs": [
    {
     "name": "stdout",
     "output_type": "stream",
     "text": [
      "['셀트리온', '종근당']\n"
     ]
    }
   ],
   "source": [
    "#문제 11\n",
    "companies = [['삼성전자','삼성생명','삼성화재'],['LG전자','LG화학'],['SKT','SK바이오사이언스'],['셀트리온']]\n",
    "companies[-1].append('종근당')\n",
    "last = companies.pop()\n",
    "print(last)\n"
   ]
  },
  {
   "cell_type": "code",
   "execution_count": 163,
   "id": "e8b29f7e-5df6-48f3-9c8f-0344eaffb221",
   "metadata": {},
   "outputs": [
    {
     "name": "stdout",
     "output_type": "stream",
     "text": [
      "[1, 2, 4, 7, 9, 12, 15, 16, 18, 20, 22, 25, 27, 29, 32, 34, 36, 39, 42, 44, 47, 50, 52, 53, 58, 59, 60, 61, 62, 65, 67, 72, 73, 74, 75, 76, 77, 78, 81, 83, 85, 86, 87, 88, 89, 90, 93, 97, 98, 99]\n"
     ]
    }
   ],
   "source": [
    "#문제 12\n",
    "import random\n",
    "\n",
    "numlist = range(1,101)\n",
    "s = random.sample(numlist,50)\n",
    "print(sorted(s))"
   ]
  },
  {
   "cell_type": "code",
   "execution_count": 183,
   "id": "df2f5409-9a57-4533-9bfc-102a222b8774",
   "metadata": {},
   "outputs": [
    {
     "ename": "SyntaxError",
     "evalue": "positional argument follows keyword argument (2368205320.py, line 32)",
     "output_type": "error",
     "traceback": [
      "\u001b[0;36m  Cell \u001b[0;32mIn[183], line 32\u001b[0;36m\u001b[0m\n\u001b[0;31m    )\u001b[0m\n\u001b[0m    ^\u001b[0m\n\u001b[0;31mSyntaxError\u001b[0m\u001b[0;31m:\u001b[0m positional argument follows keyword argument\n"
     ]
    }
   ],
   "source": [
    "#ㅎ..이건 모르겠어서 구글도 돌리고 지피티의 힘도.... \n",
    "# 복습하고 다시 풀어보겠습니다\n",
    "\n",
    "import glob\n",
    "\n",
    "def problem13(directory, output_file, *args, **kwargs):\n",
    "    start_header = kwargs.get('start_header', '')\n",
    "    end_footer = kwargs.get('end_footer', '')\n",
    "    \n",
    "    with open(output_file, 'w') as output:\n",
    "        # *args로 받은 헤더를 작성\n",
    "        if args:\n",
    "            output.write(' '.join(args) + '\\n')  # args를 공백으로 구분하여 하나의 문자열로 결합\n",
    "        # start_header가 있으면 추가\n",
    "        if start_header:\n",
    "            output.write(start_header + '\\n')\n",
    "        \n",
    "        # 디렉토리의 모든 .txt 파일을 순회\n",
    "        for filepath in glob.glob(f\"{directory}/*.txt\"):\n",
    "            with open(filepath, 'r') as file:\n",
    "                for line in file:\n",
    "                    output.write(line)\n",
    "        \n",
    "        # end_footer가 있으면 추가\n",
    "        if end_footer:\n",
    "            output.write('\\n' + end_footer)\n",
    "\n",
    "# 함수 호출 예시\n",
    "problem13(\n",
    "    directory=\"/Users/sanga/Desktop/study/\",  # 디렉토리 경로\n",
    "    output_file=\"output_file.txt\",            # 출력 파일 경로\n",
    "    \"header\",                                 # 헤더로 추가할 내용\n",
    "    start_header=\"This is the start header\",  # 시작 헤더 옵션\n",
    "    end_footer=\"This is the end footer\"       # 끝 푸터 옵션\n",
    ")\n",
    "# 결과 확인\n",
    "with open(\"output_file.txt\", \"r\") as file:\n",
    "    print(file.read())"
   ]
  },
  {
   "cell_type": "code",
   "execution_count": null,
   "id": "d1806a65-1149-407e-9921-cd34e8817ebf",
   "metadata": {},
   "outputs": [],
   "source": []
  }
 ],
 "metadata": {
  "kernelspec": {
   "display_name": "Python 3 (ipykernel)",
   "language": "python",
   "name": "python3"
  },
  "language_info": {
   "codemirror_mode": {
    "name": "ipython",
    "version": 3
   },
   "file_extension": ".py",
   "mimetype": "text/x-python",
   "name": "python",
   "nbconvert_exporter": "python",
   "pygments_lexer": "ipython3",
   "version": "3.12.7"
  }
 },
 "nbformat": 4,
 "nbformat_minor": 5
}
